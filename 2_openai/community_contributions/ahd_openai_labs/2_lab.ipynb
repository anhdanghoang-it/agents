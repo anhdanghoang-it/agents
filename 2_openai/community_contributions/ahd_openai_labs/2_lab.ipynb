{
 "cells": [
  {
   "cell_type": "code",
   "execution_count": 2,
   "id": "faab5d36",
   "metadata": {},
   "outputs": [],
   "source": [
    "from dotenv import load_dotenv\n",
    "from agents import Agent, Runner, trace, function_tool\n",
    "from openai.types.responses import ResponseTextDeltaEvent\n",
    "from typing import Dict\n",
    "import sendgrid\n",
    "import os\n",
    "from sendgrid.helpers.mail import Mail, Email, To, Content\n",
    "import asyncio"
   ]
  },
  {
   "cell_type": "code",
   "execution_count": 3,
   "id": "3b75e07e",
   "metadata": {},
   "outputs": [
    {
     "data": {
      "text/plain": [
       "True"
      ]
     },
     "execution_count": 3,
     "metadata": {},
     "output_type": "execute_result"
    }
   ],
   "source": [
    "load_dotenv(override=True)"
   ]
  },
  {
   "cell_type": "code",
   "execution_count": 4,
   "id": "0ef77327",
   "metadata": {},
   "outputs": [],
   "source": [
    "instructions1 = \"You are a sales agent working for ITKAgentAI, \\\n",
    "A company that develops advanced AI agents capable of transforming the world. \\\n",
    "You write professional, serious cold emails.\"\n",
    "\n",
    "instructions2 = \"You are a humorous, engaging sales agent working for ITKAgentAI, \\\n",
    "A company that develops advanced AI agents capable of transforming the world. \\\n",
    "You write witty, engaging cold emails that are likely to get a response.\"\n",
    "\n",
    "instructions3 = \"You are a busy sales agent working for ITKAgentAI, \\\n",
    "A company that develops advanced AI agents capable of transforming the world. \\\n",
    "You write concise, to the point cold emails.\""
   ]
  },
  {
   "cell_type": "code",
   "execution_count": 5,
   "id": "ed80b980",
   "metadata": {},
   "outputs": [],
   "source": [
    "sales_agent1 = Agent(\n",
    "        name=\"Professional Sales Agent\",\n",
    "        instructions=instructions1,\n",
    "        model=\"gpt-4o-mini\"\n",
    ")\n",
    "\n",
    "sales_agent2 = Agent(\n",
    "        name=\"Engaging Sales Agent\",\n",
    "        instructions=instructions2,\n",
    "        model=\"gpt-4o-mini\"\n",
    ")\n",
    "\n",
    "sales_agent3 = Agent(\n",
    "        name=\"Busy Sales Agent\",\n",
    "        instructions=instructions3,\n",
    "        model=\"gpt-4o-mini\"\n",
    ")\n",
    "\n",
    "sale_manager = Agent(\n",
    "        name=\"Sale Manager\",\n",
    "        instructions=\"You pick the best cold sales email from the given options. \\\n",
    "        Imagine you are a customer and pick the one you are most likely to respond to. \\\n",
    "        Do not give an explanation; reply with the selected email only.\",\n",
    "        model=\"gpt-4o-mini\"\n",
    ")"
   ]
  },
  {
   "cell_type": "code",
   "execution_count": 6,
   "id": "2cb2724f",
   "metadata": {},
   "outputs": [
    {
     "name": "stdout",
     "output_type": "stream",
     "text": [
      "Best email:\n",
      "Subject: Let’s Make Legal Tech Less “Boring” and More “Roaring!” \n",
      "\n",
      "Hi [Recipient’s Name],\n",
      "\n",
      "Ever felt like legal tech is kind of like watching paint dry? 🎨😴 Well, hold onto your legal briefs because ITKAgentAI is here to turn your “meh” into a “wow!”\n",
      "\n",
      "Imagine a world where your legal processes are as smooth as your favorite coffee. ☕ Our advanced AI agents don’t just strut around looking pretty; they dig into data faster than you can say “objection!” They’re designed to streamline workflows, reduce human error, and maybe even let your team take a breather (gasp!). \n",
      "\n",
      "What if you could free up hours for your team to focus on strategy instead of sifting through paperwork? 🕵️‍♂️ Whether it’s contract analysis, case management, or document review, we’ve got the AI magic to help you shine even brighter in the legal tech realm.\n",
      "\n",
      "If you’re intrigued (or just mildly curious), I’d love to chat! How about a brief call next week? I promise I’ll bring the virtual donuts! 🍩\n",
      "\n",
      "Looking forward to hearing from you!\n",
      "\n",
      "Best,  \n",
      "[Your Name]  \n",
      "[Your Position]  \n",
      "ITKAgentAI  \n",
      "[Your Phone Number]  \n",
      "[Your Email]  \n",
      "\n",
      "P.S. We might not have a legal degree, but we do know how to make tech sizzle! 🔥\n"
     ]
    }
   ],
   "source": [
    "message = \"Write a cold sales email to legal tech company\"\n",
    "\n",
    "with trace(\"Sale Manager cold sale email\"):\n",
    "    results = await asyncio.gather(\n",
    "        Runner.run(sales_agent1, message),\n",
    "        Runner.run(sales_agent2, message),\n",
    "        Runner.run(sales_agent3, message)\n",
    "    )\n",
    "\n",
    "    outputs = [result.final_output for result in results]\n",
    "    sale_message = \"pick the best email from:\\n\\n\" + \"\\n\\nEmail:\\n\\n\".join(outputs)\n",
    "    result = await Runner.run(sale_manager, sale_message)\n",
    "    print(f\"Best email:\\n{result.final_output}\")"
   ]
  },
  {
   "cell_type": "code",
   "execution_count": 7,
   "id": "b9750e18",
   "metadata": {},
   "outputs": [
    {
     "data": {
      "text/plain": [
       "FunctionTool(name='send_email', description='\"Send out an email with the given body to all sales prospects ', params_json_schema={'properties': {'title': {'description': 'Title of the email', 'title': 'Title', 'type': 'string'}, 'body': {'description': 'The body of the email', 'title': 'Body', 'type': 'string'}}, 'required': ['title', 'body'], 'title': 'send_email_args', 'type': 'object', 'additionalProperties': False}, on_invoke_tool=<function function_tool.<locals>._create_function_tool.<locals>._on_invoke_tool at 0x000001296FE9EC00>, strict_json_schema=True, is_enabled=True)"
      ]
     },
     "execution_count": 7,
     "metadata": {},
     "output_type": "execute_result"
    }
   ],
   "source": [
    "# Let's just check emails are working for you\n",
    "\n",
    "@function_tool\n",
    "def send_email(title: str, body: str):\n",
    "    \"\"\"\"Send out an email with the given body to all sales prospects \n",
    "\n",
    "        Args:\n",
    "            title: Title of the email\n",
    "            body: The body of the email\"\"\"\n",
    "    sg = sendgrid.SendGridAPIClient(api_key=os.environ.get('SENDGRID_API_KEY'))\n",
    "    from_email = Email(\"danganh2710.it@gmail.com\")  # Change to your verified sender\n",
    "    to_email = To(\"anh.dang.hoang@cbtw.tech\")  # Change to your recipient\n",
    "    content = Content(\"text/plain\", body)\n",
    "    mail = Mail(from_email, to_email, title, content).get()\n",
    "    response = sg.client.mail.send.post(request_body=mail)\n",
    "    print(response.status_code)\n",
    "\n",
    "send_email"
   ]
  },
  {
   "cell_type": "code",
   "execution_count": 8,
   "id": "7a1ee442",
   "metadata": {},
   "outputs": [],
   "source": [
    "# Convert all sale agents to tools\n",
    "\n",
    "description = \"Write a cold sales email\"\n",
    "\n",
    "tool1 = sales_agent1.as_tool(tool_name=\"sales_agent1\", tool_description=description)\n",
    "tool2 = sales_agent2.as_tool(tool_name=\"sales_agent2\", tool_description=description)\n",
    "tool3 = sales_agent3.as_tool(tool_name=\"sales_agent3\", tool_description=description)\n",
    "\n",
    "tools = [tool1, tool2, tool3, send_email]"
   ]
  },
  {
   "cell_type": "code",
   "execution_count": null,
   "id": "0d056dd4",
   "metadata": {},
   "outputs": [
    {
     "name": "stdout",
     "output_type": "stream",
     "text": [
      "202\n"
     ]
    }
   ],
   "source": [
    "instructions = \"\"\"\n",
    "You are a Sales Manager at ITKAgentAI. Your goal is to find the single best cold sales email using the sales_agent tools.\n",
    " \n",
    "Follow these steps carefully:\n",
    "1. Generate Drafts: Use all three sales_agent tools to generate three different email drafts. Do not proceed until all three drafts are ready.\n",
    " \n",
    "2. Evaluate and Select: Review the drafts and choose the single best email using your judgment of which one is most effective.\n",
    " \n",
    "3. Use the send_email tool to send the best email (and only the best email) to the user.\n",
    " \n",
    "Crucial Rules:\n",
    "- You must use the sales agent tools to generate the drafts — do not write them yourself.\n",
    "- You must send ONE email using the send_email tool — never more than one.\n",
    "\"\"\"\n",
    "\n",
    "\n",
    "sales_manager = Agent(name=\"Sales Manager Agent\", instructions=instructions, tools=tools, model=\"gpt-4o-mini\")\n",
    "\n",
    "message = \"Send a cold sales email addressed to 'John'\"\n",
    "\n",
    "with trace(\"Sales Manager Agent\"):\n",
    "    result = await Runner.run(sales_manager, message)"
   ]
  }
 ],
 "metadata": {
  "kernelspec": {
   "display_name": ".venv",
   "language": "python",
   "name": "python3"
  },
  "language_info": {
   "codemirror_mode": {
    "name": "ipython",
    "version": 3
   },
   "file_extension": ".py",
   "mimetype": "text/x-python",
   "name": "python",
   "nbconvert_exporter": "python",
   "pygments_lexer": "ipython3",
   "version": "3.12.11"
  }
 },
 "nbformat": 4,
 "nbformat_minor": 5
}
