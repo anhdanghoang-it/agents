{
 "cells": [
  {
   "cell_type": "code",
   "execution_count": 18,
   "id": "b7e49b90",
   "metadata": {},
   "outputs": [],
   "source": [
    "from untils import gpt_call, gemini_call\n",
    "from pydantic import BaseModel\n",
    "\n",
    "# Response format\n",
    "\n",
    "class GeneratorResponse(BaseModel):\n",
    "    thoughts: list[str]\n",
    "    response: str\n",
    "\n",
    "\n",
    "\n",
    "def generate(task: str, context: str = \"\") -> GeneratorResponse:\n",
    "    \"\"\"Generate and improve solution base on feedback\"\"\"\n",
    "    # Generator prompt\n",
    "    generator_system_prompt = \"\"\"\n",
    "    Your goal is to complete the task based on <user input>. If there are feedbacks provided in the <context> from your previous generations, \n",
    "    you should reflect on them to improve your solution.\n",
    "\n",
    "    Output your answer concisely in the following format:\n",
    "\n",
    "    <thoughts>\n",
    "    [Your understanding of the task and feedback and how you plan to improve]\n",
    "    </thoughts>\n",
    "\n",
    "    <response>\n",
    "    [Your code implementation here]\n",
    "    </response>\n",
    "    \"\"\"\n",
    "    if context:\n",
    "        generator_system_prompt +=f\"\"\"\n",
    "        <context>\n",
    "        {context}\n",
    "        </context>\n",
    "        \"\"\"\n",
    "    \n",
    "    result = gpt_call(prompt= task, system_prompt= generator_system_prompt,response_format=GeneratorResponse)\n",
    "    print(\"\\n=== GENERATION START ===\")\n",
    "    print(f\"Thoughts:\\n{result.thoughts}\\n\")\n",
    "    print(f\"Generated:\\n{result.response}\\n\")\n",
    "    print(\"=== GENERATION END ===\\n\")\n",
    "    print(result)\n",
    "    return result"
   ]
  },
  {
   "cell_type": "code",
   "execution_count": 20,
   "id": "a813ddbd",
   "metadata": {},
   "outputs": [],
   "source": [
    "task = \"\"\"\n",
    "<user input>\n",
    "Implement a Stack with:\n",
    "1. push(x)\n",
    "2. pop()\n",
    "3. getMin()\n",
    "All operations should be O(1).\n",
    "</user input>\n",
    "\"\"\"\n",
    "\n",
    "# generator_result = generate(task)"
   ]
  },
  {
   "cell_type": "code",
   "execution_count": 21,
   "id": "ff2539bc",
   "metadata": {},
   "outputs": [],
   "source": [
    "# Structured response from evaluator\n",
    "\n",
    "class EvaluatorResponse(BaseModel):\n",
    "    is_accepted: bool\n",
    "    feedback: str\n",
    "\n",
    "def evaluate(task: str, response_from_generator: str) -> EvaluatorResponse:\n",
    "    \"\"\"Evaluate if a solution meets requirements.\"\"\"\n",
    "    evaluator_system_prompt=\"\"\"\n",
    "    Evaluate this following code implementation for:\n",
    "    1. code correctness\n",
    "    2. time complexity\n",
    "    3. style and best practices\n",
    "\n",
    "    You should be evaluating only and not attemping to solve the task.\n",
    "    Only output \"is_accepted = true\" if all criteria are met and you have no further suggestions for improvements.\n",
    "    Output your evaluation concisely in the following format.\n",
    "\n",
    "    <is_accepted>true or false</is_accepted>\n",
    "    <feedback>\n",
    "    What needs improvement and why.\n",
    "    </feedback>\n",
    "    \"\"\"\n",
    "    evaluator_user_prompt=f\"\"\"\n",
    "    Original task:\\n\n",
    "    {task}\\n\n",
    "    Content to evaluate:\\n\n",
    "    {response_from_generator}\n",
    "    \"\"\"\n",
    "    result = gemini_call(prompt= evaluator_user_prompt, system_prompt= evaluator_system_prompt, response_format= EvaluatorResponse)\n",
    "    print(\"=== EVALUATION START ===\")\n",
    "    print(f\"Is Accepted:\\n {result.is_accepted}\\n\")\n",
    "    print(f\"Feedback:\\n {result.feedback}\\n\")\n",
    "    print(\"=== EVALUATION END ===\\n\")\n",
    "    print(result)\n",
    "\n",
    "    return result\n",
    "    "
   ]
  },
  {
   "cell_type": "code",
   "execution_count": 16,
   "id": "77869c76",
   "metadata": {},
   "outputs": [
    {
     "name": "stdout",
     "output_type": "stream",
     "text": [
      "=== EVALUATION START ===\n",
      "Is Accepted: True\n",
      "Feedback: The code is correct and implements a MinStack with O(1) time complexity for push, pop, and getMin operations. The style and best practices are also good. No further improvements are necessary.\n",
      "=== EVALUATION END ===\n",
      "\n",
      "is_accepted=True feedback='The code is correct and implements a MinStack with O(1) time complexity for push, pop, and getMin operations. The style and best practices are also good. No further improvements are necessary.'\n"
     ]
    },
    {
     "data": {
      "text/plain": [
       "EvaluatorResponse(is_accepted=True, feedback='The code is correct and implements a MinStack with O(1) time complexity for push, pop, and getMin operations. The style and best practices are also good. No further improvements are necessary.')"
      ]
     },
     "execution_count": 16,
     "metadata": {},
     "output_type": "execute_result"
    }
   ],
   "source": [
    "evaluate(task, generator_result.response)"
   ]
  },
  {
   "cell_type": "code",
   "execution_count": 24,
   "id": "0eead349",
   "metadata": {},
   "outputs": [],
   "source": [
    "def loop(task: str)->tuple[str, list[dict]]:\n",
    "    \"\"\"Keep generating and evaluating until requirements are met.\"\"\"\n",
    "    memory = []\n",
    "    chain_of_thought = []\n",
    "\n",
    "    generator_result = generate(task)\n",
    "    memory.append(generator_result.response)\n",
    "    chain_of_thought.append({\"thoughts\": generator_result.thoughts, \"result\": generator_result.response})\n",
    "\n",
    "    while True:\n",
    "        evaluator_result = evaluate(task, generator_result.response)\n",
    "        if evaluator_result.is_accepted:\n",
    "            print(\"===Passed evaluation===\")\n",
    "            return generator_result.response, chain_of_thought\n",
    "        \n",
    "        print(\"===Failed evaluation===\")\n",
    "        context = \"\\n\".join([\n",
    "                \"Previous attempts:\",\n",
    "                *[f\"- {m}\" for m in memory],\n",
    "                f\"\\nFeedback: {evaluator_result.feedback}\"\n",
    "            ])\n",
    "            \n",
    "        generator_result = generate(task, context)\n",
    "        memory.append(generator_result.response)\n",
    "        chain_of_thought.append({\"thoughts\": generator_result.thoughts, \"result\": generator_result.response})"
   ]
  },
  {
   "cell_type": "code",
   "execution_count": 25,
   "id": "17c36254",
   "metadata": {},
   "outputs": [
    {
     "name": "stdout",
     "output_type": "stream",
     "text": [
      "\n",
      "=== GENERATION START ===\n",
      "Thoughts:\n",
      "['The task is to implement a Stack that supports three operations: push, pop, and getMin, all in constant time O(1).', \"To achieve this, I will maintain two stacks: one for the normal stack operations and another to keep track of the minimum elements. When pushing an element, I will also push it onto the minimum stack if it's less than or equal to the current minimum. When popping, I will also pop from the minimum stack if the popped element is the current minimum.\"]\n",
      "\n",
      "Generated:\n",
      "class MinStack:\n",
      "    def __init__(self):\n",
      "        self.stack = []  # main stack for all elements\n",
      "        self.min_stack = []  # stack to keep track of minimums\n",
      "\n",
      "    def push(self, x: int) -> None:\n",
      "        self.stack.append(x)\n",
      "        # push onto min_stack if it's the new minimum\n",
      "        if not self.min_stack or x <= self.min_stack[-1]:\n",
      "            self.min_stack.append(x)\n",
      "\n",
      "    def pop(self) -> None:\n",
      "        if self.stack:\n",
      "            popped = self.stack.pop()\n",
      "            # pop from min_stack if it was the current minimum\n",
      "            if popped == self.min_stack[-1]:\n",
      "                self.min_stack.pop()\n",
      "\n",
      "    def top(self) -> int:\n",
      "        return self.stack[-1] if self.stack else None\n",
      "\n",
      "    def getMin(self) -> int:\n",
      "        return self.min_stack[-1] if self.min_stack else None\n",
      "\n",
      "=== GENERATION END ===\n",
      "\n",
      "thoughts=['The task is to implement a Stack that supports three operations: push, pop, and getMin, all in constant time O(1).', \"To achieve this, I will maintain two stacks: one for the normal stack operations and another to keep track of the minimum elements. When pushing an element, I will also push it onto the minimum stack if it's less than or equal to the current minimum. When popping, I will also pop from the minimum stack if the popped element is the current minimum.\"] response=\"class MinStack:\\n    def __init__(self):\\n        self.stack = []  # main stack for all elements\\n        self.min_stack = []  # stack to keep track of minimums\\n\\n    def push(self, x: int) -> None:\\n        self.stack.append(x)\\n        # push onto min_stack if it's the new minimum\\n        if not self.min_stack or x <= self.min_stack[-1]:\\n            self.min_stack.append(x)\\n\\n    def pop(self) -> None:\\n        if self.stack:\\n            popped = self.stack.pop()\\n            # pop from min_stack if it was the current minimum\\n            if popped == self.min_stack[-1]:\\n                self.min_stack.pop()\\n\\n    def top(self) -> int:\\n        return self.stack[-1] if self.stack else None\\n\\n    def getMin(self) -> int:\\n        return self.min_stack[-1] if self.min_stack else None\"\n",
      "=== EVALUATION START ===\n",
      "Is Accepted:\n",
      " True\n",
      "\n",
      "Feedback:\n",
      " The code is correct and implements a MinStack with O(1) time complexity for push, pop, and getMin operations. The style and best practices are also well-maintained. No further improvements are needed.\n",
      "\n",
      "=== EVALUATION END ===\n",
      "\n",
      "is_accepted=True feedback='The code is correct and implements a MinStack with O(1) time complexity for push, pop, and getMin operations. The style and best practices are also well-maintained. No further improvements are needed.'\n",
      "===Passed evaluation===\n"
     ]
    },
    {
     "data": {
      "text/plain": [
       "(\"class MinStack:\\n    def __init__(self):\\n        self.stack = []  # main stack for all elements\\n        self.min_stack = []  # stack to keep track of minimums\\n\\n    def push(self, x: int) -> None:\\n        self.stack.append(x)\\n        # push onto min_stack if it's the new minimum\\n        if not self.min_stack or x <= self.min_stack[-1]:\\n            self.min_stack.append(x)\\n\\n    def pop(self) -> None:\\n        if self.stack:\\n            popped = self.stack.pop()\\n            # pop from min_stack if it was the current minimum\\n            if popped == self.min_stack[-1]:\\n                self.min_stack.pop()\\n\\n    def top(self) -> int:\\n        return self.stack[-1] if self.stack else None\\n\\n    def getMin(self) -> int:\\n        return self.min_stack[-1] if self.min_stack else None\",\n",
       " [{'thoughts': ['The task is to implement a Stack that supports three operations: push, pop, and getMin, all in constant time O(1).',\n",
       "    \"To achieve this, I will maintain two stacks: one for the normal stack operations and another to keep track of the minimum elements. When pushing an element, I will also push it onto the minimum stack if it's less than or equal to the current minimum. When popping, I will also pop from the minimum stack if the popped element is the current minimum.\"],\n",
       "   'result': \"class MinStack:\\n    def __init__(self):\\n        self.stack = []  # main stack for all elements\\n        self.min_stack = []  # stack to keep track of minimums\\n\\n    def push(self, x: int) -> None:\\n        self.stack.append(x)\\n        # push onto min_stack if it's the new minimum\\n        if not self.min_stack or x <= self.min_stack[-1]:\\n            self.min_stack.append(x)\\n\\n    def pop(self) -> None:\\n        if self.stack:\\n            popped = self.stack.pop()\\n            # pop from min_stack if it was the current minimum\\n            if popped == self.min_stack[-1]:\\n                self.min_stack.pop()\\n\\n    def top(self) -> int:\\n        return self.stack[-1] if self.stack else None\\n\\n    def getMin(self) -> int:\\n        return self.min_stack[-1] if self.min_stack else None\"}])"
      ]
     },
     "execution_count": 25,
     "metadata": {},
     "output_type": "execute_result"
    }
   ],
   "source": [
    "loop(task)"
   ]
  }
 ],
 "metadata": {
  "kernelspec": {
   "display_name": ".venv",
   "language": "python",
   "name": "python3"
  },
  "language_info": {
   "codemirror_mode": {
    "name": "ipython",
    "version": 3
   },
   "file_extension": ".py",
   "mimetype": "text/x-python",
   "name": "python",
   "nbconvert_exporter": "python",
   "pygments_lexer": "ipython3",
   "version": "3.12.11"
  }
 },
 "nbformat": 4,
 "nbformat_minor": 5
}
