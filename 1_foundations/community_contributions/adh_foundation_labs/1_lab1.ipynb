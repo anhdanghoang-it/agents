{
 "cells": [
  {
   "cell_type": "markdown",
   "id": "02f4bea7",
   "metadata": {},
   "source": [
    "Load latest .env configurations"
   ]
  },
  {
   "cell_type": "code",
   "execution_count": 16,
   "id": "83837d23",
   "metadata": {},
   "outputs": [
    {
     "data": {
      "text/plain": [
       "True"
      ]
     },
     "execution_count": 16,
     "metadata": {},
     "output_type": "execute_result"
    }
   ],
   "source": [
    "import os\n",
    "import json\n",
    "from dotenv import load_dotenv\n",
    "from openai import OpenAI\n",
    "from anthropic import Anthropic\n",
    "from IPython.display import Markdown, display\n",
    "load_dotenv(override=True)"
   ]
  },
  {
   "cell_type": "code",
   "execution_count": null,
   "id": "538eef7c",
   "metadata": {},
   "outputs": [],
   "source": [
    "# Create an instance of the OpenAI client\n",
    "openai = OpenAI()\n",
    "\n",
    "# Create a test message\n",
    "messages=[{\"role\": \"user\", \"content\": \"Hello, how are you?\"}]\n",
    "\n",
    "# Test the OpenAI client\n",
    "response = openai.chat.completions.create(\n",
    "    model=\"gpt-4o-mini\",\n",
    "    messages=messages\n",
    ")\n",
    "print(response.choices[0].message.content)"
   ]
  },
  {
   "cell_type": "markdown",
   "id": "2001b643",
   "metadata": {},
   "source": [
    "First ask the LLM to pick a business area that might be worth exploring for an Agentic AI opportunity.\n",
    "Then ask the LLM to present a pain-point in that industry - something challenging that might be ripe for an Agentic solution.\n",
    "Finally have 3 third LLM call propose the Agentic AI solution."
   ]
  },
  {
   "cell_type": "code",
   "execution_count": 12,
   "id": "55d7502b",
   "metadata": {},
   "outputs": [
    {
     "name": "stdout",
     "output_type": "stream",
     "text": [
      "# Pain Point in the Australian Legal Industry: Inefficient Document Review Processes\n",
      "\n",
      "## Pain Point\n",
      "The Australian legal industry faces significant challenges in managing and reviewing large volumes of documents during discovery and due diligence processes. This inefficiency often leads to increased costs, extended timelines, and greater risk of errors.\n",
      "\n",
      "## Explanation\n",
      "The inefficiency in document review primarily exists due to the sheer volume of information that legal professionals must sift through, which has been exacerbated by the digital revolution and the rise of e-discovery. This expansion leads to high workloads that can overwhelm even the most experienced legal teams, resulting in:\n",
      "\n",
      "1. **Time Consumption**: Manual review of documents is time-intensive and requires significant human resources. \n",
      "2. **Human Error**: As the volume increases, the likelihood of overlooking critical documents or misinterpreting data grows, which can have severe implications for case outcomes.\n",
      "3. **Cost Implications**: The costs associated with prolonged document review processes, including billing hours and operational expenses, can substantially impact a firm's profitability.\n",
      "\n",
      "This pain point is significant because timely and accurate document review is crucial to building a strong legal case. A failure in this area can not only jeopardize a case but also damage a firm's reputation and client relationships.\n",
      "\n",
      "## Examples\n",
      "1. **Case Delays**: A large corporate law firm undertook a merger-related due diligence review involving thousands of documents, resulting in a backlog that delayed the completion of the merger by several months. This not only frustrated the client but also incurred additional costs for both parties due to prolonged negotiations and missed market opportunities.\n",
      "\n",
      "2. **Error Consequences**: In a high-stakes litigation matter, a junior associate overlooked a critical piece of evidence during manual document review, which later emerged as a key argument for the opposing counsel. This oversight led to a negative judgment against the firm’s client, resulting in financial loss and reputational damage. \n",
      "\n",
      "## Conclusion\n",
      "An Agentic AI solution could streamline the document review process by automating data sorting, prioritizing relevant documents, and flagging critical information for legal professionals. By addressing this pain point, the legal industry can enhance efficiency, reduce costs, and improve overall case outcomes.\n"
     ]
    }
   ],
   "source": [
    "# Of course, we start with law Tech\n",
    "question = \"\"\"Identify a specific and high-impact pain point in the Australian legal industry that could be effectively addressed using an Agentic AI solution.\n",
    "Your response should be formatted in markdown, and must include:\n",
    "* The pain point (clearly stated)\n",
    "* An explanation of why it exists and why it’s significant\n",
    "* One or two examples illustrating how it impacts legal professionals or firms\"\"\"\n",
    "messages = [{\"role\": \"user\", \"content\": question}]\n",
    "response = openai.chat.completions.create(\n",
    "    model=\"gpt-4o-mini\",\n",
    "    messages=messages\n",
    ")\n",
    "\n",
    "answer = response.choices[0].message.content\n",
    "print(answer)\n"
   ]
  },
  {
   "cell_type": "code",
   "execution_count": 14,
   "id": "2a55c360",
   "metadata": {},
   "outputs": [
    {
     "name": "stdout",
     "output_type": "stream",
     "text": [
      "Here are two Agentic AI–based solutions tailored to address the inefficiencies in document review processes within the Australian legal industry:\n",
      "\n",
      "## Solution 1: SmartDoc Review Assistant\n",
      "\n",
      "### Description\n",
      "The SmartDoc Review Assistant leverages natural language processing (NLP) and machine learning algorithms to automate the document review process. By analyzing the content of documents, it categorizes them based on relevance to specific legal cases, allowing legal teams to focus on high-priority documents.\n",
      "\n",
      "### Key Features or Capabilities\n",
      "- **AI-Powered Document Categorization**: Uses NLP to analyze the content and context of documents, sorting them into categories for easy access and review.\n",
      "- **Keyword and Phrase Identification**: Enables legal professionals to set specific keywords and phrases to identify critical documents quickly.\n",
      "- **Real-Time Collaboration Tools**: Facilitates collaboration among team members by allowing comments, tagging, and assignment of documents or sections.\n",
      "- **Training and Customization**: Allows law firms to train the AI on specific case types or terminologies unique to their practice areas, improving accuracy and efficiency.\n",
      "\n",
      "### Expected Impact\n",
      "- **Efficiency Gains**: By automating the review and categorization process, law firms can significantly reduce the time spent sifting through documents, leading to quicker case resolution.\n",
      "- **Error Reduction**: Minimizes the risk of overlooking important documents and provides insights into potential misses, enhancing accuracy and reliability in case preparation.\n",
      "- **Cost-Effective**: Lowers the operational costs associated with manual document review, improving a firm’s profitability while maintaining high-quality service for clients.\n",
      "\n",
      "---\n",
      "\n",
      "## Solution 2: DocScan Review Management System\n",
      "\n",
      "### Description\n",
      "DocScan Review Management System is a comprehensive AI-driven platform designed to assist legal teams in the document review process through visual recognition and intelligent data extraction techniques. The system scans documents for visual cues and data patterns to highlight essential information that may impact the case.\n",
      "\n",
      "### Key Features or Capabilities\n",
      "- **Visual Recognition Technology**: Analyzes images, tables, and complex document formats to extract relevant information that may be overlooked in traditional text-based reviews.\n",
      "- **Automated Flagging and Alerts**: Flags documents with critical information, discrepancies, or potential issues for immediate review by legal professionals.\n",
      "- **Advanced Reporting Tools**: Generates detailed reports on document review status, including insights on efficiency, errors, and time spent on various document categories.\n",
      "- **Integration with E-Discovery Tools**: Seamlessly integrates with existing e-discovery platforms to provide a holistic view of document management and review processes.\n",
      "\n",
      "### Expected Impact\n",
      "- **Enhanced Document Insights**: Offers a deeper understanding of the relevant context and implications of documents, aiding legal teams in forming comprehensive arguments.\n",
      "- **Streamlined Review Process**: Reduces the number of documents needing manual review by promoting automatic prioritization, expediting the discovery and due diligence phases.\n",
      "- **Client Satisfaction**: By improving turnaround times and reducing errors, law firms can enhance client relationships, build trust, and maintain reputation in a competitive market.\n",
      "\n",
      "Both of these Agentic AI solutions aim to revolutionize the document review process in the Australian legal industry, addressing the critical pain points of inefficiency, costs, and the potential for human error.\n"
     ]
    }
   ],
   "source": [
    "# Propose the Agentic solution\n",
    "question = f\"\"\"You are an Agentic AI expert.\n",
    "Based on the following identified problem in the Australian legal industry:\n",
    "{answer}\n",
    "Propose at least two Agentic AI–based solutions that could effectively address this issue.\n",
    "For each proposed solution, include the following details in markdown format:\n",
    "* Solution name\n",
    "* Description (how it works)\n",
    "* Key features or capabilities\n",
    "* Expected impact (how it solves the problem and benefits the legal industry)\"\"\"\n",
    "messages = [{\"role\": \"user\", \"content\": question}]\n",
    "response = openai.chat.completions.create(\n",
    "    model=\"gpt-4o-mini\",\n",
    "    messages=messages\n",
    ")\n",
    "answer = response.choices[0].message.content\n",
    "print(answer)"
   ]
  }
 ],
 "metadata": {
  "kernelspec": {
   "display_name": ".venv",
   "language": "python",
   "name": "python3"
  },
  "language_info": {
   "codemirror_mode": {
    "name": "ipython",
    "version": 3
   },
   "file_extension": ".py",
   "mimetype": "text/x-python",
   "name": "python",
   "nbconvert_exporter": "python",
   "pygments_lexer": "ipython3",
   "version": "3.12.11"
  }
 },
 "nbformat": 4,
 "nbformat_minor": 5
}
