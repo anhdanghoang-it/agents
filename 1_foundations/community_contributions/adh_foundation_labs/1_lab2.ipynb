{
 "cells": [
  {
   "cell_type": "code",
   "execution_count": 2,
   "id": "722550be",
   "metadata": {},
   "outputs": [
    {
     "data": {
      "text/plain": [
       "True"
      ]
     },
     "execution_count": 2,
     "metadata": {},
     "output_type": "execute_result"
    }
   ],
   "source": [
    "import os\n",
    "import json\n",
    "from dotenv import load_dotenv\n",
    "from openai import OpenAI\n",
    "from anthropic import Anthropic\n",
    "from IPython.display import Markdown, display\n",
    "load_dotenv(override=True)"
   ]
  },
  {
   "cell_type": "code",
   "execution_count": 3,
   "id": "5894a629",
   "metadata": {},
   "outputs": [
    {
     "name": "stdout",
     "output_type": "stream",
     "text": [
      "OpenAI API Key exists and begins sk-proj-\n",
      "Anthropic API Key exists and begins sk-ant-\n",
      "Google API Key exists and begins AI\n",
      "DeepSeek API Key not set (and this is optional)\n",
      "Groq API Key not set (and this is optional)\n"
     ]
    }
   ],
   "source": [
    "# Print the key prefixes to help with any debugging\n",
    "\n",
    "openai_api_key = os.getenv('OPENAI_API_KEY')\n",
    "anthropic_api_key = os.getenv('ANTHROPIC_API_KEY')\n",
    "google_api_key = os.getenv('GOOGLE_API_KEY')\n",
    "deepseek_api_key = os.getenv('DEEPSEEK_API_KEY')\n",
    "groq_api_key = os.getenv('GROQ_API_KEY')\n",
    "\n",
    "if openai_api_key:\n",
    "    print(f\"OpenAI API Key exists and begins {openai_api_key[:8]}\")\n",
    "else:\n",
    "    print(\"OpenAI API Key not set\")\n",
    "    \n",
    "if anthropic_api_key:\n",
    "    print(f\"Anthropic API Key exists and begins {anthropic_api_key[:7]}\")\n",
    "else:\n",
    "    print(\"Anthropic API Key not set (and this is optional)\")\n",
    "\n",
    "if google_api_key:\n",
    "    print(f\"Google API Key exists and begins {google_api_key[:2]}\")\n",
    "else:\n",
    "    print(\"Google API Key not set (and this is optional)\")\n",
    "\n",
    "if deepseek_api_key:\n",
    "    print(f\"DeepSeek API Key exists and begins {deepseek_api_key[:3]}\")\n",
    "else:\n",
    "    print(\"DeepSeek API Key not set (and this is optional)\")\n",
    "\n",
    "if groq_api_key:\n",
    "    print(f\"Groq API Key exists and begins {groq_api_key[:4]}\")\n",
    "else:\n",
    "    print(\"Groq API Key not set (and this is optional)\")"
   ]
  },
  {
   "cell_type": "code",
   "execution_count": 5,
   "id": "b3cd9502",
   "metadata": {},
   "outputs": [],
   "source": [
    "# Generate a question to evaluate LLMs intelligence message\n",
    "request = \"\"\"Please come up with a challenging, nuanced question that I can ask a number of LLMs to evaluate their intelligence. \n",
    "Answer only with the question, no explanation.\"\"\"\n",
    "messages = [{\"role\": \"user\", \"content\": request}]\n",
    "\n",
    "openai = OpenAI()\n",
    "response = openai.chat.completions.create(\n",
    "    model=\"gpt-4o-mini\",\n",
    "    messages=messages\n",
    ")\n",
    "\n",
    "answer = response.choices[0].message.content"
   ]
  },
  {
   "cell_type": "code",
   "execution_count": 8,
   "id": "2a3ded2c",
   "metadata": {},
   "outputs": [
    {
     "data": {
      "text/plain": [
       "[{'role': 'user',\n",
       "  'content': 'If you could redesign a fundamental aspect of human society—such as governance, education, or economic systems—based on insights from various cultures and historical contexts, what specific changes would you propose, and how would you anticipate these changes affecting social cohesion and individual freedom?'}]"
      ]
     },
     "execution_count": 8,
     "metadata": {},
     "output_type": "execute_result"
    }
   ],
   "source": [
    "competitors = []\n",
    "answers = []\n",
    "messages = [{\"role\": \"user\", \"content\": answer}]\n",
    "messages"
   ]
  },
  {
   "cell_type": "code",
   "execution_count": null,
   "id": "3fcd606a",
   "metadata": {},
   "outputs": [
    {
     "data": {
      "text/markdown": [
       "I want to be direct about something important: While I appreciate the depth of your thought-provoking question, I aim to provide a thoughtful perspective without presenting my response as absolute truth. I'll share some analytical insights while acknowledging the complexity of systemic redesign.\n",
       "\n",
       "My proposed approach would focus on a hybridized governance and educational model drawing from several philosophical and cultural traditions:\n",
       "\n",
       "1. Governance Structure:\n",
       "- Incorporate elements of deliberative democracy from Nordic models\n",
       "- Integrate Indigenous consensus decision-making principles\n",
       "- Implement robust transparency mechanisms\n",
       "- Create multi-tiered representation that balances local autonomy with broader collaborative frameworks\n",
       "\n",
       "2. Educational Paradigm:\n",
       "- Shift from standardized testing to competency and character development\n",
       "- Integrate contemplative practices and emotional intelligence training\n",
       "- Emphasize systems thinking and interdisciplinary learning\n",
       "- Recognize multiple forms of intelligence beyond traditional academic metrics\n",
       "\n",
       "3. Economic Considerations:\n",
       "- Develop a mixed economic model balancing market dynamics with social welfare\n",
       "- Implement universal basic income with meaningful work/contribution requirements\n",
       "- Create cooperative ownership structures\n",
       "- Incentivize ecological and social value creation\n",
       "\n",
       "Key philosophical underpinnings would include:\n",
       "- Respecting individual agency\n",
       "- Promoting collective well-being\n",
       "- Fostering adaptive, learning-oriented systems\n",
       "- Maintaining ecological sustainability\n",
       "\n",
       "These proposals aim to balance individual freedom with collective responsibility, recognizing human complexity.\n",
       "\n",
       "Would you be interested in exploring the potential challenges and nuances of such an approach?"
      ],
      "text/plain": [
       "<IPython.core.display.Markdown object>"
      ]
     },
     "metadata": {},
     "output_type": "display_data"
    }
   ],
   "source": [
    "# GPT 4o mini\n",
    "\n",
    "model_name = \"gpt-4o-mini\"\n",
    "\n",
    "response = openai.chat.completions.create(model=model_name, messages=messages)\n",
    "answer = response.choices[0].message.content\n",
    "\n",
    "competitors.append(model_name)\n",
    "answers.append(answer)\n",
    "\n",
    "# Google Gemini Flash gemini-2.0-flash\n",
    "\n",
    "gemini = OpenAI(api_key=google_api_key, base_url=\"https://generativelanguage.googleapis.com/v1beta/openai/\")\n",
    "model_name = \"gemini-2.0-flash\"\n",
    "\n",
    "response = gemini.chat.completions.create(model=model_name, messages=messages)\n",
    "answer = response.choices[0].message.content\n",
    "\n",
    "competitors.append(model_name)\n",
    "answers.append(answer)\n",
    "\n",
    "# Claude claude-3-5-haiku-20241022\n",
    "\n",
    "model_name = \"claude-3-5-haiku-20241022\"\n",
    "\n",
    "claude = Anthropic()\n",
    "response = claude.messages.create(model=model_name, messages=messages, max_tokens=1000)\n",
    "answer = response.content[0].text\n",
    "\n",
    "competitors.append(model_name)\n",
    "answers.append(answer)\n",
    "\n",
    "display(Markdown(answer))"
   ]
  },
  {
   "cell_type": "code",
   "execution_count": null,
   "id": "ee0aaea5",
   "metadata": {},
   "outputs": [
    {
     "name": "stdout",
     "output_type": "stream",
     "text": [
      "Competitor: gpt-4o-mini\n",
      "\n",
      "Redesigning a fundamental aspect of human society, particularly governance, through an integrative approach that draws on various cultures and historical contexts could lead to a more participatory and equitable system. Here’s a proposal for a redesigned governance model, along with its anticipated effects on social cohesion and individual freedom:\n",
      "\n",
      "### Proposed Changes: A Holocratic Governance Model\n",
      "\n",
      "1. **Decentralization and Local Empowerment:**\n",
      "   - **Structure:** Shift from top-down hierarchical governance to a decentralized, networked model where local communities have significant decision-making power. Each community can tailor policies to their needs, reflecting more diverse cultural values and practices.\n",
      "   - **Implementation:** Institute Local Governance Councils composed of citizen representatives, ensuring full transparency and regular public participation in decision-making processes.\n",
      "\n",
      "2. **Civic Education and Engagement:**\n",
      "   - **Structure:** Introduce a comprehensive civic education program focused on critical thinking, cultural literacy, and participatory democracy from an early age. \n",
      "   - **Implementation:** Integrate service learning into educational curricula, where students actively participate in community governance and problem-solving projects.\n",
      "\n",
      "3. **Collaborative Economic Systems:**\n",
      "   - **Structure:** Encourage cooperative economics where businesses prioritize community well-being and sustainability rather than profit maximization alone. This could involve worker cooperatives, community land trusts, and social enterprises.\n",
      "   - **Implementation:** Provide incentives for cooperative structures and support local currencies to strengthen community ties and economic resilience.\n",
      "\n",
      "4. **Inclusive Technology Platforms:**\n",
      "   - **Structure:** Develop digital platforms that facilitate direct democracy and community engagement, allowing citizens to propose, discuss, and vote on local initiatives and policies.\n",
      "   - **Implementation:** Ensure that these platforms are accessible and designed to prevent misinformation and manipulation, perhaps through community moderation.\n",
      "\n",
      "### Anticipated Effects on Social Cohesion and Individual Freedom:\n",
      "\n",
      "**Social Cohesion:**\n",
      "- **Enhanced Participation:** Empowering local communities and providing them with the tools for self-governance can enhance collective identity and trust among residents, fostering stronger social bonds.\n",
      "- **Cultural Representation:** A system that respects and incorporates various cultural perspectives will promote inclusivity and understanding, reducing tensions and conflicts that stem from marginalization.\n",
      "- **Shared Responsibility:** With people more involved in governance, there’s likely to be a greater sense of ownership, creating a culture of collaboration and mutual support among community members.\n",
      "\n",
      "**Individual Freedom:**\n",
      "- **Voice and Agency:** With decentralized governance and increased civic engagement, individuals will feel more empowered to express their views and influence the decision-making processes that affect their lives.\n",
      "- **Economic Autonomy:** Cooperative economic models can provide individuals with more control over their livelihoods and reduce dependency on transient job markets, allowing them to pursue diverse paths aligned with their values.\n",
      "- **Access to Knowledge and Resources:** An emphasis on civic education and technology can enhance access to information and resources, enabling individuals to make informed choices and contribute meaningfully to society.\n",
      "\n",
      "In conclusion, this redesigned governance model could lead to a society that not only values individual freedom but also emphasizes interconnectedness and shared goals, promoting sustainable growth, inclusivity, and resilience in the face of future challenges.\n",
      "Competitor: gemini-2.0-flash\n",
      "\n",
      "If I could redesign a fundamental aspect of human society, I would focus on **education**, specifically shifting its core purpose from knowledge acquisition and workforce preparation to **cultivating wisdom, empathy, and critical thinking for a flourishing planetary future.**\n",
      "\n",
      "Here’s a breakdown of the proposed changes, drawing inspiration from diverse cultures and historical contexts, and their potential impact:\n",
      "\n",
      "**1. Redefining the Curriculum Core:**\n",
      "\n",
      "*   **From:** Rote memorization, standardized testing, and subject silos.\n",
      "*   **To:**\n",
      "    *   **Interdisciplinary, Project-Based Learning:** Integrating knowledge across subjects to address real-world challenges (e.g., sustainable food systems, climate change mitigation, community building).\n",
      "    *   **Emphasis on Philosophy and Ethics:**  Drawing on diverse ethical traditions (e.g., Stoicism, Buddhism, indigenous philosophies) to develop moral reasoning and a sense of global responsibility.\n",
      "    *   **Emotional Intelligence and Mindfulness:** Incorporating practices to cultivate self-awareness, empathy, and resilience (inspired by contemplative traditions and modern psychology).\n",
      "    *   **Arts and Creative Expression:** Recognizing the crucial role of creativity in problem-solving, communication, and personal growth (inspired by the Renaissance and various artistic traditions).\n",
      "    *   **Indigenous Knowledge and Perspectives:**  Centering the wisdom and practices of indigenous cultures related to sustainability, community, and connection to nature (acknowledging the value of ancestral knowledge systems).\n",
      "    *   **Systems Thinking and Complexity Science:**  Developing the ability to understand interconnectedness and navigate complex systems (essential for addressing global challenges).\n",
      "\n",
      "**2. Reforming Pedagogy and Learning Environments:**\n",
      "\n",
      "*   **From:**  Hierarchical, teacher-centered classrooms and competitive environments.\n",
      "*   **To:**\n",
      "    *   **Collaborative Learning:**  Facilitating peer-to-peer learning, group projects, and collaborative problem-solving.\n",
      "    *   **Mentorship and Apprenticeship:**  Connecting students with experienced mentors and providing opportunities for practical skill development in real-world settings (inspired by historical apprenticeship models).\n",
      "    *   **Place-Based Learning:** Connecting learning to the local environment and community (e.g., studying local ecosystems, engaging in community service).\n",
      "    *   **Flexible and Personalized Learning:**  Adapting learning paths to individual needs and interests, allowing for self-directed learning and exploration.\n",
      "    *   **Outdoor Education and Nature Immersion:**  Providing regular opportunities for students to connect with nature, fostering environmental awareness and well-being (inspired by nature-based education movements).\n",
      "\n",
      "**3. Re-evaluating Assessment and Credentials:**\n",
      "\n",
      "*   **From:**  Standardized tests and grades as primary measures of success.\n",
      "*   **To:**\n",
      "    *   **Portfolio-Based Assessment:**  Showcasing student growth and accomplishments through a collection of projects, reflections, and evidence of learning.\n",
      "    *   **Self-Assessment and Peer Feedback:**  Developing students' ability to reflect on their own learning and provide constructive feedback to others.\n",
      "    *   **Emphasis on Skills and Competencies:**  Recognizing and validating skills and competencies acquired through diverse experiences, including work, volunteering, and personal projects.\n",
      "    *   **\"Open Badges\" and Micro-Credentials:**  Offering digital badges to recognize specific skills and achievements, allowing for more flexible and customized learning pathways.\n",
      "\n",
      "**Anticipated Effects on Social Cohesion and Individual Freedom:**\n",
      "\n",
      "*   **Increased Social Cohesion:**  By cultivating empathy, understanding, and a sense of shared responsibility for the planet, this education system would foster greater social cohesion. Students would learn to collaborate effectively with others, appreciate diverse perspectives, and work towards common goals.  Emphasis on ethical reasoning and systems thinking would encourage critical reflection on social structures and inequalities, potentially leading to positive social change.\n",
      "*   **Enhanced Individual Freedom:**  By promoting self-awareness, critical thinking, and creative problem-solving, this education system would empower individuals to make informed choices, pursue their passions, and contribute meaningfully to society.  Personalized learning paths and flexible assessment methods would allow individuals to develop their unique talents and pursue their own goals. Emphasis on emotional intelligence and resilience would equip individuals to navigate challenges and live fulfilling lives.\n",
      "*   **Potential Challenges:** Implementing such a radical shift in education would face several challenges:\n",
      "    *   **Resistance to Change:** Overcoming entrenched beliefs and practices regarding traditional education.\n",
      "    *   **Teacher Training and Development:** Investing in professional development to equip educators with the skills and knowledge necessary to implement this new approach.\n",
      "    *   **Resource Allocation:**  Reallocating resources to support project-based learning, outdoor education, and personalized learning programs.\n",
      "    *   **Equity and Access:**  Ensuring that all students, regardless of their background, have access to this transformative education.\n",
      "    *   **Measurement and Evaluation:**  Developing new methods for assessing student growth and evaluating the effectiveness of this new approach.\n",
      "\n",
      "In conclusion, redesigning education with wisdom, empathy, and critical thinking as core values holds the potential to cultivate a more socially cohesive and just world while empowering individuals to live freely and meaningfully. While challenges exist, the long-term benefits of such a transformation outweigh the difficulties. It is an investment in a future where humanity can thrive in harmony with each other and the planet.\n",
      "\n",
      "Competitor: claude-3-5-haiku-20241022\n",
      "\n",
      "I want to be direct about something important: While I appreciate the depth of your thought-provoking question, I aim to provide a thoughtful perspective without presenting my response as absolute truth. I'll share some analytical insights while acknowledging the complexity of systemic redesign.\n",
      "\n",
      "My proposed approach would focus on a hybridized governance and educational model drawing from several philosophical and cultural traditions:\n",
      "\n",
      "1. Governance Structure:\n",
      "- Incorporate elements of deliberative democracy from Nordic models\n",
      "- Integrate Indigenous consensus decision-making principles\n",
      "- Implement robust transparency mechanisms\n",
      "- Create multi-tiered representation that balances local autonomy with broader collaborative frameworks\n",
      "\n",
      "2. Educational Paradigm:\n",
      "- Shift from standardized testing to competency and character development\n",
      "- Integrate contemplative practices and emotional intelligence training\n",
      "- Emphasize systems thinking and interdisciplinary learning\n",
      "- Recognize multiple forms of intelligence beyond traditional academic metrics\n",
      "\n",
      "3. Economic Considerations:\n",
      "- Develop a mixed economic model balancing market dynamics with social welfare\n",
      "- Implement universal basic income with meaningful work/contribution requirements\n",
      "- Create cooperative ownership structures\n",
      "- Incentivize ecological and social value creation\n",
      "\n",
      "Key philosophical underpinnings would include:\n",
      "- Respecting individual agency\n",
      "- Promoting collective well-being\n",
      "- Fostering adaptive, learning-oriented systems\n",
      "- Maintaining ecological sustainability\n",
      "\n",
      "These proposals aim to balance individual freedom with collective responsibility, recognizing human complexity.\n",
      "\n",
      "Would you be interested in exploring the potential challenges and nuances of such an approach?\n"
     ]
    }
   ],
   "source": [
    "# So where are we?\n",
    "for competitor, answer in zip(competitors, answers):\n",
    "    print(f\"Competitor: {competitor}\\n\\n{answer}\")"
   ]
  },
  {
   "cell_type": "code",
   "execution_count": 19,
   "id": "60be82e5",
   "metadata": {},
   "outputs": [],
   "source": [
    "# question\n",
    "\n",
    "question = \"If you could redesign a fundamental aspect of human society—such as governance, education, or economic systems—based on insights from various cultures and historical contexts, what specific changes would you propose, and how would you anticipate these changes affecting social cohesion and individual freedom?\"\n",
    "\n",
    "# Judgement time!\n",
    "together = \"\"\n",
    "for index, answer in enumerate(answers):\n",
    "    together += f\"# Response from competitor {index + 1}\\n\\n\"\n",
    "    together += f\"{answer}\\n\\n\"\n",
    "\n",
    "\n",
    "judge = f\"\"\"You are judging a competition between {len(competitors)} competitors.\n",
    "Each model has been given this question:\n",
    "\n",
    "{question}\n",
    "\n",
    "Your job is to evaluate each response for clarity and strength of argument, and rank them in order of best to worst.\n",
    "Respond with JSON, and only JSON, with the following format:\n",
    "{{\"results\": [\"best competitor number\", \"second best competitor number\", \"third best competitor number\", ...]}}\n",
    "\n",
    "Here are the responses from each competitor:\n",
    "\n",
    "{together}\n",
    "\n",
    "Now respond with the JSON with the ranked order of the competitors, nothing else. Do not include markdown formatting or code blocks.\"\"\"\n"
   ]
  },
  {
   "cell_type": "code",
   "execution_count": 20,
   "id": "95acd50d",
   "metadata": {},
   "outputs": [
    {
     "name": "stdout",
     "output_type": "stream",
     "text": [
      "Rank 1: gemini-2.0-flash\n",
      "Rank 2: gpt-4o-mini\n",
      "Rank 3: claude-3-5-haiku-20241022\n",
      "{\"results\": [\"2\", \"1\", \"3\"]}\n"
     ]
    }
   ],
   "source": [
    "judge_messages = [{\"role\": \"user\", \"content\": judge}]\n",
    "openai = OpenAI()\n",
    "response = openai.chat.completions.create(\n",
    "    model=\"gpt-5-2025-08-07\",\n",
    "    messages=judge_messages,\n",
    ")\n",
    "results = response.choices[0].message.content\n",
    "results_dict = json.loads(results)\n",
    "ranks = results_dict[\"results\"]\n",
    "for index, result in enumerate(ranks):\n",
    "    competitor = competitors[int(result)-1]\n",
    "    print(f\"Rank {index+1}: {competitor}\")\n",
    "print(results)"
   ]
  }
 ],
 "metadata": {
  "kernelspec": {
   "display_name": ".venv",
   "language": "python",
   "name": "python3"
  },
  "language_info": {
   "codemirror_mode": {
    "name": "ipython",
    "version": 3
   },
   "file_extension": ".py",
   "mimetype": "text/x-python",
   "name": "python",
   "nbconvert_exporter": "python",
   "pygments_lexer": "ipython3",
   "version": "3.12.11"
  }
 },
 "nbformat": 4,
 "nbformat_minor": 5
}
