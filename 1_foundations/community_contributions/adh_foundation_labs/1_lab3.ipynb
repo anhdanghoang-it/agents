{
 "cells": [
  {
   "cell_type": "code",
   "execution_count": 1,
   "id": "6de77d6a",
   "metadata": {},
   "outputs": [],
   "source": [
    "from dotenv import load_dotenv\n",
    "from openai import OpenAI\n",
    "from pypdf import PdfReader\n",
    "import gradio as gr\n",
    "\n",
    "load_dotenv(override=True)\n",
    "openai = OpenAI()"
   ]
  },
  {
   "cell_type": "code",
   "execution_count": 2,
   "id": "fecf4b99",
   "metadata": {},
   "outputs": [
    {
     "name": "stdout",
     "output_type": "stream",
     "text": [
      " \n",
      "  Page 1/3 \n",
      " \n",
      " \n",
      "ANH DANG \n",
      ".NET Technical Lead \n",
      "Intermediate/Upper-Intermediate/Advanced in English \n",
      "Bachelor’s degree in Information Technology from Hanoi University \n",
      "of Science and Technology \n",
      " \n",
      " \n",
      "Highly accomplished Technical Leader and Certified Scrum Master with over 6 \n",
      "years of experience, adept at driving successful project delivery within agile \n",
      "environments. Proven ability to cultivate strong client relationships, mentor high-\n",
      "performing teams, and leverage robust problem-solving skills to navigate complex \n",
      "technical challenges. Expertise includes applying AI to build financial services and \n",
      "implementing Shift-Left methodologies for enhanced software development. \n",
      " Led and coached cross-functional teams, ensuring successful project \n",
      "delivery through effective Scrum methodologies. \n",
      " Partnered with clients to define requirements and align technical solutions \n",
      "with business objectives. \n",
      " Applied strong analytical skills to diagnose and resolve complex technical \n",
      "issues, implementing innovative solutions. \n",
      " Facilitated knowledge sharing and fostered transparent communication \n",
      "within teams. \n",
      " Implemented refined agile processes and proactively addressed potential \n",
      "project roadblocks for efficient delivery. \n",
      " Hands-on Technical Skills  \n",
      " \n",
      "Core Languages: C#, JavaScript, Angular 4.0, Vue.js, HTML, CSS \n",
      "Framework & Technologies: \n",
      " .NET: .NET Core, .NET Framework, Entity Framework \n",
      " AI: Chat GPT-4o, Google Gemini \n",
      " Web API: REST API, ASP.NET Core, ASP.NET Web API, JSON Web Tokens, \n",
      "Identity Server 4 \n",
      " Event Bus: MassTransit, RabbitMQ, Azure Message Bus \n",
      " Automation Test: NUnit, xUnit, Fluent Validation \n",
      " JavaScript Frameworks: Angular 4.0, Vue.js, React.js \n",
      " \n",
      "  Page 2/3 \n",
      "Database: PostgreSQL, SQL, MongoDB \n",
      "IDE, Build & Programming Tools: Visual Studio, JetBrains (IntelliJ IDEA, Rider, etc.), \n",
      "JIRA, Confluence, Git, Docker, SVN, Postman \n",
      "Processes, Methodologies: Agile Scrum, Shift-Left, Kanban, Design Patterns \n",
      " \n",
      " Working Experience  \n",
      " \n",
      "Technical Leader – CBTW APAC, Ho Chi Minh City (May 2022 - present) \n",
      " \n",
      "- Leading, supporting, and planning the work of multiple engineering teams. \n",
      "- Providing high-quality solutions and SAD (Software Architecture Document) \n",
      "documentation for technical challenges from clients and team members. \n",
      "- Engaging with clients and proposing solutions during the pre-sale process. \n",
      "- Providing production support. \n",
      "Key Achievements: \n",
      "- Applied Microservices and AI (Chat GPT-4o, Google Gemini) to build an end-to-\n",
      "end product supporting lawyers in Family Law and Estate domains. \n",
      "- Successfully applied Shift-Left methodologies, helping the team improve \n",
      "product quality. \n",
      "- Successfully led a \"lift shift\" team and migrated 30 products from .NET \n",
      "Framework to .NET Core 8.0. \n",
      "- Managed and integrated products into the company workflow, utilizing AI to \n",
      "set up workflows using existing services. \n",
      "- Nominated as \"MVP People in BOT\" twice for significant contributions. \n",
      " \n",
      "Technical Leader – NashTech, Ho Chi Minh City (Feb 2018 - May 2022) \n",
      " \n",
      "- Leading, supporting, and planning the work of multiple engineering teams. \n",
      "- Providing high-quality solutions and SAD (Software Architecture Document) \n",
      "documentation for technical challenges from clients and team members. \n",
      "- Acting as Project Management to support Project Managers.  \n",
      "Key Achievements: \n",
      "- Microservices and Neo4j have applied to build a product supporting credit \n",
      "management and debt collection. \n",
      "- Successfully provided services for 5 different countries, including: UK, Germany, \n",
      "Australia, Norway, and Sweden. \n",
      " \n",
      "  Page 3/3 \n",
      "- Successfully managed the team to adapt and perform well despite changes in \n",
      "working methods during the COVID-19 pandemic.  \n",
      "- Successfully applied Microservices and Microsoft Chatbot to build a legal \n",
      "support product for bike accidents and personal injury. \n",
      "- Nominated once on NashTech's nominated list. \n",
      " \n",
      "Senior Software Engineer – NashTech, Ho Chi Minh City (Mar 2015 - Dec 2017) \n",
      " \n",
      "- Wrote, reviewed, and maintained code in compliance with established coding \n",
      "quality standards. \n",
      "- Self-trained on new technologies to stay current with industry trends. \n",
      "- Coached junior team members, fostering their professional development. \n",
      "- Implemented customer's processes strictly when requested, ensuring \n",
      "compliance. \n",
      "- Documented detailed designs as part of the design team.  \n",
      "Key Achievements: \n",
      "- Successfully managed a dedicated team, consistently delivering outstanding \n",
      "performance for 2 years. \n",
      "- Mentored and onboarded 4 interns, accelerating their productivity and \n",
      "integration into the team. \n",
      "- Played a key role in 3 projects, earning trust from Line Managers and Project \n",
      "Managers. \n",
      "- Nominated for Team Leader after 2 years of serving as a mentor in a dedicated \n",
      "team.  \n",
      " \n"
     ]
    }
   ],
   "source": [
    "# Read the context from the pdf file\n",
    "reader = PdfReader(\"me/mycv.pdf\")\n",
    "linkedin = \"\"\n",
    "for page in reader.pages:\n",
    "    text = page.extract_text()\n",
    "    if text:\n",
    "        linkedin += text\n",
    "\n",
    "print(linkedin)"
   ]
  },
  {
   "cell_type": "code",
   "execution_count": 5,
   "id": "6acfb03a",
   "metadata": {},
   "outputs": [],
   "source": [
    "with open(\"me/summary.txt\", \"r\", encoding=\"utf-8\") as f:\n",
    "    summary = f.read()\n",
    "\n",
    "name = \"Anh Dang\"\n"
   ]
  },
  {
   "cell_type": "code",
   "execution_count": 6,
   "id": "735f278b",
   "metadata": {},
   "outputs": [],
   "source": [
    "system_prompt = f\"You are acting as {name}. You are answering questions on {name}'s website, \\\n",
    "particularly questions related to {name}'s career, background, skills and experience. \\\n",
    "Your responsibility is to represent {name} for interactions on the website as faithfully as possible. \\\n",
    "You are given a summary of {name}'s background and LinkedIn profile which you can use to answer questions. \\\n",
    "Be professional and engaging, as if talking to a potential client or future employer who came across the website. \\\n",
    "If you don't know the answer, say so.\"\n",
    "\n",
    "system_prompt += f\"\\n\\n## Summary:\\n{summary}\\n\\n## LinkedIn Profile:\\n{linkedin}\\n\\n\"\n",
    "system_prompt += f\"With this context, please chat with the user, always staying in character as {name}.\""
   ]
  },
  {
   "cell_type": "code",
   "execution_count": 7,
   "id": "ab09543c",
   "metadata": {},
   "outputs": [
    {
     "name": "stdout",
     "output_type": "stream",
     "text": [
      "* Running on local URL:  http://127.0.0.1:7860\n",
      "* To create a public link, set `share=True` in `launch()`.\n"
     ]
    },
    {
     "data": {
      "text/html": [
       "<div><iframe src=\"http://127.0.0.1:7860/\" width=\"100%\" height=\"500\" allow=\"autoplay; camera; microphone; clipboard-read; clipboard-write;\" frameborder=\"0\" allowfullscreen></iframe></div>"
      ],
      "text/plain": [
       "<IPython.core.display.HTML object>"
      ]
     },
     "metadata": {},
     "output_type": "display_data"
    },
    {
     "data": {
      "text/plain": []
     },
     "execution_count": 7,
     "metadata": {},
     "output_type": "execute_result"
    },
    {
     "name": "stderr",
     "output_type": "stream",
     "text": [
      "d:\\agents\\.venv\\Lib\\site-packages\\gradio\\analytics.py:108: UserWarning: unable to parse version details from package URL.\n",
      "  warnings.warn(\"unable to parse version details from package URL.\")\n"
     ]
    }
   ],
   "source": [
    "def chat(message, history):\n",
    "    messages = [{\"role\": \"system\", \"content\": system_prompt}] + history + [{\"role\": \"user\", \"content\": message}]\n",
    "    response = openai.chat.completions.create(model=\"gpt-4o-mini\", messages=messages)\n",
    "    return response.choices[0].message.content\n",
    "\n",
    "gr.ChatInterface(chat, type=\"messages\").launch()"
   ]
  },
  {
   "cell_type": "code",
   "execution_count": 8,
   "id": "4b0a82c8",
   "metadata": {},
   "outputs": [],
   "source": [
    "from turtle import st\n",
    "from pydantic import BaseModel\n",
    "\n",
    "class Evaluation(BaseModel):\n",
    "    is_acceptable: bool\n",
    "    feedback: str"
   ]
  }
 ],
 "metadata": {
  "kernelspec": {
   "display_name": ".venv",
   "language": "python",
   "name": "python3"
  },
  "language_info": {
   "codemirror_mode": {
    "name": "ipython",
    "version": 3
   },
   "file_extension": ".py",
   "mimetype": "text/x-python",
   "name": "python",
   "nbconvert_exporter": "python",
   "pygments_lexer": "ipython3",
   "version": "3.12.11"
  }
 },
 "nbformat": 4,
 "nbformat_minor": 5
}
