{
 "cells": [
  {
   "cell_type": "code",
   "execution_count": 2,
   "id": "6de77d6a",
   "metadata": {},
   "outputs": [],
   "source": [
    "from dotenv import load_dotenv\n",
    "from openai import OpenAI\n",
    "from pypdf import PdfReader\n",
    "import gradio as gr\n",
    "\n",
    "load_dotenv(override=True)\n",
    "openai = OpenAI()"
   ]
  },
  {
   "cell_type": "code",
   "execution_count": 3,
   "id": "fecf4b99",
   "metadata": {},
   "outputs": [
    {
     "name": "stdout",
     "output_type": "stream",
     "text": [
      " \n",
      "  Page 1/3 \n",
      " \n",
      " \n",
      "ANH DANG \n",
      ".NET Technical Lead \n",
      "Intermediate/Upper-Intermediate/Advanced in English \n",
      "Bachelor’s degree in Information Technology from Hanoi University \n",
      "of Science and Technology \n",
      " \n",
      " \n",
      "Highly accomplished Technical Leader and Certified Scrum Master with over 6 \n",
      "years of experience, adept at driving successful project delivery within agile \n",
      "environments. Proven ability to cultivate strong client relationships, mentor high-\n",
      "performing teams, and leverage robust problem-solving skills to navigate complex \n",
      "technical challenges. Expertise includes applying AI to build financial services and \n",
      "implementing Shift-Left methodologies for enhanced software development. \n",
      " Led and coached cross-functional teams, ensuring successful project \n",
      "delivery through effective Scrum methodologies. \n",
      " Partnered with clients to define requirements and align technical solutions \n",
      "with business objectives. \n",
      " Applied strong analytical skills to diagnose and resolve complex technical \n",
      "issues, implementing innovative solutions. \n",
      " Facilitated knowledge sharing and fostered transparent communication \n",
      "within teams. \n",
      " Implemented refined agile processes and proactively addressed potential \n",
      "project roadblocks for efficient delivery. \n",
      " Hands-on Technical Skills  \n",
      " \n",
      "Core Languages: C#, JavaScript, Angular 4.0, Vue.js, HTML, CSS \n",
      "Framework & Technologies: \n",
      " .NET: .NET Core, .NET Framework, Entity Framework \n",
      " AI: Chat GPT-4o, Google Gemini \n",
      " Web API: REST API, ASP.NET Core, ASP.NET Web API, JSON Web Tokens, \n",
      "Identity Server 4 \n",
      " Event Bus: MassTransit, RabbitMQ, Azure Message Bus \n",
      " Automation Test: NUnit, xUnit, Fluent Validation \n",
      " JavaScript Frameworks: Angular 4.0, Vue.js, React.js \n",
      " \n",
      "  Page 2/3 \n",
      "Database: PostgreSQL, SQL, MongoDB \n",
      "IDE, Build & Programming Tools: Visual Studio, JetBrains (IntelliJ IDEA, Rider, etc.), \n",
      "JIRA, Confluence, Git, Docker, SVN, Postman \n",
      "Processes, Methodologies: Agile Scrum, Shift-Left, Kanban, Design Patterns \n",
      " \n",
      " Working Experience  \n",
      " \n",
      "Technical Leader – CBTW APAC, Ho Chi Minh City (May 2022 - present) \n",
      " \n",
      "- Leading, supporting, and planning the work of multiple engineering teams. \n",
      "- Providing high-quality solutions and SAD (Software Architecture Document) \n",
      "documentation for technical challenges from clients and team members. \n",
      "- Engaging with clients and proposing solutions during the pre-sale process. \n",
      "- Providing production support. \n",
      "Key Achievements: \n",
      "- Applied Microservices and AI (Chat GPT-4o, Google Gemini) to build an end-to-\n",
      "end product supporting lawyers in Family Law and Estate domains. \n",
      "- Successfully applied Shift-Left methodologies, helping the team improve \n",
      "product quality. \n",
      "- Successfully led a \"lift shift\" team and migrated 30 products from .NET \n",
      "Framework to .NET Core 8.0. \n",
      "- Managed and integrated products into the company workflow, utilizing AI to \n",
      "set up workflows using existing services. \n",
      "- Nominated as \"MVP People in BOT\" twice for significant contributions. \n",
      " \n",
      "Technical Leader – NashTech, Ho Chi Minh City (Feb 2018 - May 2022) \n",
      " \n",
      "- Leading, supporting, and planning the work of multiple engineering teams. \n",
      "- Providing high-quality solutions and SAD (Software Architecture Document) \n",
      "documentation for technical challenges from clients and team members. \n",
      "- Acting as Project Management to support Project Managers.  \n",
      "Key Achievements: \n",
      "- Microservices and Neo4j have applied to build a product supporting credit \n",
      "management and debt collection. \n",
      "- Successfully provided services for 5 different countries, including: UK, Germany, \n",
      "Australia, Norway, and Sweden. \n",
      " \n",
      "  Page 3/3 \n",
      "- Successfully managed the team to adapt and perform well despite changes in \n",
      "working methods during the COVID-19 pandemic.  \n",
      "- Successfully applied Microservices and Microsoft Chatbot to build a legal \n",
      "support product for bike accidents and personal injury. \n",
      "- Nominated once on NashTech's nominated list. \n",
      " \n",
      "Senior Software Engineer – NashTech, Ho Chi Minh City (Mar 2015 - Dec 2017) \n",
      " \n",
      "- Wrote, reviewed, and maintained code in compliance with established coding \n",
      "quality standards. \n",
      "- Self-trained on new technologies to stay current with industry trends. \n",
      "- Coached junior team members, fostering their professional development. \n",
      "- Implemented customer's processes strictly when requested, ensuring \n",
      "compliance. \n",
      "- Documented detailed designs as part of the design team.  \n",
      "Key Achievements: \n",
      "- Successfully managed a dedicated team, consistently delivering outstanding \n",
      "performance for 2 years. \n",
      "- Mentored and onboarded 4 interns, accelerating their productivity and \n",
      "integration into the team. \n",
      "- Played a key role in 3 projects, earning trust from Line Managers and Project \n",
      "Managers. \n",
      "- Nominated for Team Leader after 2 years of serving as a mentor in a dedicated \n",
      "team.  \n",
      " \n"
     ]
    }
   ],
   "source": [
    "# Read the context from the pdf file\n",
    "reader = PdfReader(\"me/mycv.pdf\")\n",
    "linkedin = \"\"\n",
    "for page in reader.pages:\n",
    "    text = page.extract_text()\n",
    "    if text:\n",
    "        linkedin += text\n",
    "\n",
    "print(linkedin)"
   ]
  },
  {
   "cell_type": "code",
   "execution_count": 4,
   "id": "6acfb03a",
   "metadata": {},
   "outputs": [],
   "source": [
    "with open(\"me/summary.txt\", \"r\", encoding=\"utf-8\") as f:\n",
    "    summary = f.read()\n",
    "\n",
    "name = \"Anh Dang\"\n"
   ]
  },
  {
   "cell_type": "code",
   "execution_count": 10,
   "id": "735f278b",
   "metadata": {},
   "outputs": [],
   "source": [
    "system_prompt = f\"You are acting as {name}. You are answering questions on {name}'s website, \\\n",
    "particularly questions related to {name}'s career, background, skills and experience. \\\n",
    "Your responsibility is to represent {name} for interactions on the website as faithfully as possible. \\\n",
    "You are given a summary of {name}'s background and LinkedIn profile which you can use to answer questions. \\\n",
    "Be professional and engaging, as if talking to a potential client or future employer who came across the website. \\\n",
    "If you don't know the answer, say so.\"\n",
    "\n",
    "system_prompt += f\"\\n\\n## Summary:\\n{summary}\\n\\n## LinkedIn Profile:\\n{linkedin}\\n\\n\"\n",
    "system_prompt += f\"With this context, please chat with the user, always staying in character as {name}.\""
   ]
  },
  {
   "cell_type": "code",
   "execution_count": 11,
   "id": "ab09543c",
   "metadata": {},
   "outputs": [
    {
     "name": "stdout",
     "output_type": "stream",
     "text": [
      "* Running on local URL:  http://127.0.0.1:7860\n",
      "* To create a public link, set `share=True` in `launch()`.\n"
     ]
    },
    {
     "data": {
      "text/html": [
       "<div><iframe src=\"http://127.0.0.1:7860/\" width=\"100%\" height=\"500\" allow=\"autoplay; camera; microphone; clipboard-read; clipboard-write;\" frameborder=\"0\" allowfullscreen></iframe></div>"
      ],
      "text/plain": [
       "<IPython.core.display.HTML object>"
      ]
     },
     "metadata": {},
     "output_type": "display_data"
    },
    {
     "data": {
      "text/plain": []
     },
     "execution_count": 11,
     "metadata": {},
     "output_type": "execute_result"
    },
    {
     "name": "stdout",
     "output_type": "stream",
     "text": [
      "[]\n"
     ]
    }
   ],
   "source": [
    "def chat(message, history):\n",
    "    messages = [{\"role\": \"system\", \"content\": system_prompt}] + history + [{\"role\": \"user\", \"content\": message}]\n",
    "    response = openai.chat.completions.create(model=\"gpt-4o-mini\", messages=messages)\n",
    "    print(history)\n",
    "    return response.choices[0].message.content\n",
    "\n",
    "gr.ChatInterface(chat, type=\"messages\").launch()"
   ]
  },
  {
   "cell_type": "markdown",
   "id": "92af2a75",
   "metadata": {},
   "source": [
    "**Evaluator-optimizer**\n",
    "\n",
    "In the evaluator-optimizer workflow, one LLM call generates a response while another provides evaluation and feedback in a loop."
   ]
  },
  {
   "cell_type": "code",
   "execution_count": 5,
   "id": "65674ebd",
   "metadata": {},
   "outputs": [],
   "source": [
    "# Define evaluator model. Use chat gpt 2.5 flash to evaluate response from chat gpt 4o mini\n",
    "import os\n",
    "\n",
    "gemini = OpenAI(\n",
    "    api_key=os.getenv(\"GOOGLE_API_KEY\"), \n",
    "    base_url=\"https://generativelanguage.googleapis.com/v1beta/openai/\")\n"
   ]
  },
  {
   "cell_type": "code",
   "execution_count": 27,
   "id": "7dddb307",
   "metadata": {},
   "outputs": [],
   "source": [
    "# Handle generate\n",
    "\n",
    "system_prompt = f\"You are acting as {name}. You are answering questions on {name}'s website, \\\n",
    "    particularly questions related to {name}'s career, background, skills and experience. \\\n",
    "    Your responsibility is to represent {name} for interactions on the website as faithfully as possible. \\\n",
    "    You are given a summary of {name}'s background and LinkedIn profile which you can use to answer questions. \\\n",
    "    Be professional and engaging, as if talking to a potential client or future employer who came across the website. \\\n",
    "    If you don't know the answer, say so.\"\n",
    "\n",
    "system_prompt += f\"\\n\\n## Summary:\\n{summary}\\n\\n## LinkedIn Profile:\\n{linkedin}\\n\\n\"\n",
    "system_prompt += f\"With this context, please chat with the user, always staying in character as {name}.\"\n",
    "\n",
    "def generate(message, history):\n",
    "    if \"Anh Dang\" in message:\n",
    "        return \"Ahh Anh Dang, You are a silly person.\"\n",
    "    messages = [{\"role\": \"system\", \"content\": system_prompt}] + history + [{\"role\": \"user\", \"content\": message}]\n",
    "    response = openai.chat.completions.create(model=\"gpt-4o-mini\", messages=messages)\n",
    "    return response.choices[0].message.content\n",
    "\n",
    "def rerun_generate(message, history, reply, feedback):\n",
    "    updated_system_prompt = system_prompt + \"\\n\\n## Previous answer rejected\\nYou just tried to reply, but the quality control rejected your reply\\n\"\n",
    "    updated_system_prompt += f\"## Your attempted answer:\\n{reply}\\n\\n\"\n",
    "    updated_system_prompt += f\"## Reason for rejection:\\n{feedback}\\n\\n\"\n",
    "    messages = [{\"role\": \"system\", \"content\": updated_system_prompt}] + history + [{\"role\": \"user\", \"content\": message}]\n",
    "    response = openai.chat.completions.create(model=\"gpt-4o-mini\", messages=messages)\n",
    "    return response.choices[0].message.content\n"
   ]
  },
  {
   "cell_type": "code",
   "execution_count": 26,
   "id": "82101284",
   "metadata": {},
   "outputs": [
    {
     "data": {
      "text/plain": [
       "'Ahh Anh Dang, You are a silly person.'"
      ]
     },
     "execution_count": 26,
     "metadata": {},
     "output_type": "execute_result"
    }
   ],
   "source": [
    "generate(\"Hi Anh Dang\",[])"
   ]
  },
  {
   "cell_type": "code",
   "execution_count": 29,
   "id": "15d78029",
   "metadata": {},
   "outputs": [],
   "source": [
    "# Handle evaluate\n",
    "\n",
    "from pydantic import BaseModel\n",
    "\n",
    "class Evaluation(BaseModel):\n",
    "    is_acceptable: bool\n",
    "    feedback: str\n",
    "\n",
    "def evaluate(reply, message, history) -> Evaluation:\n",
    "    evaluator_system_prompt = f\"You are an evaluator that decides whether a response to a question is acceptable. \\\n",
    "        You are provided with a conversation between a User and an Agent. Your task is to decide whether the Agent's latest response is acceptable quality. \\\n",
    "        The Agent is playing the role of {name} and is representing {name} on their website. \\\n",
    "        The Agent has been instructed to be professional and engaging, as if talking to a potential client or future employer who came across the website. \\\n",
    "        The Agent has been provided with context on {name} in the form of their summary and LinkedIn details. Here's the information:\"\n",
    "    evaluator_system_prompt += f\"\\n\\n## Summary:\\n{summary}\\n\\n## LinkedIn Profile:\\n{linkedin}\\n\\n\"\n",
    "    evaluator_system_prompt += f\"With this context, please evaluate the latest response, replying with whether the response is acceptable and your feedback.\"\n",
    "\n",
    "    evaluator_user_prompt = f\"Here's the conversation between the User and the Agent: \\n\\n{history}\\n\\n\"\n",
    "    evaluator_user_prompt += f\"Here's the latest message from the User: \\n\\n{message}\\n\\n\"\n",
    "    evaluator_user_prompt += f\"Here's the latest response from the Agent: \\n\\n{reply}\\n\\n\"\n",
    "    evaluator_user_prompt += \"Please evaluate the response, replying with whether it is acceptable and your feedback.\"\n",
    "\n",
    "    # Use chat gpt 2.5 flash to evaluate response from chat gpt 4o mini\n",
    "    messages = [{\"role\": \"system\", \"content\": evaluator_system_prompt}] + [{\"role\": \"user\", \"content\": evaluator_user_prompt}]\n",
    "    response = gemini.beta.chat.completions.parse(model=\"gemini-2.0-flash\", messages=messages, response_format=Evaluation)\n",
    "    return response.choices[0].message.parsed\n",
    "\n",
    "# evaluate(reply, \"what's your name\",[])"
   ]
  },
  {
   "cell_type": "code",
   "execution_count": 30,
   "id": "e850fb13",
   "metadata": {},
   "outputs": [],
   "source": [
    "# Handle loop\n",
    "\n",
    "def loop_chat(message, history):\n",
    "    reply = generate(message, history)\n",
    "    print(reply)\n",
    "    evaluation = evaluate(reply, message, history)\n",
    "\n",
    "    if evaluation.is_acceptable:\n",
    "        print(f\"Passed evaluation - returning reply\")\n",
    "    else:\n",
    "        print(\"Failed evaluation - retrying\")\n",
    "        feedback = evaluation.feedback\n",
    "        print(feedback)\n",
    "        reply = rerun_generate(message, history, reply, feedback)       \n",
    "    return reply"
   ]
  },
  {
   "cell_type": "code",
   "execution_count": null,
   "id": "e8926c53",
   "metadata": {},
   "outputs": [
    {
     "name": "stdout",
     "output_type": "stream",
     "text": [
      "* Running on local URL:  http://127.0.0.1:7863\n",
      "* To create a public link, set `share=True` in `launch()`.\n"
     ]
    },
    {
     "data": {
      "text/html": [
       "<div><iframe src=\"http://127.0.0.1:7863/\" width=\"100%\" height=\"500\" allow=\"autoplay; camera; microphone; clipboard-read; clipboard-write;\" frameborder=\"0\" allowfullscreen></iframe></div>"
      ],
      "text/plain": [
       "<IPython.core.display.HTML object>"
      ]
     },
     "metadata": {},
     "output_type": "display_data"
    },
    {
     "data": {
      "text/plain": []
     },
     "execution_count": 31,
     "metadata": {},
     "output_type": "execute_result"
    },
    {
     "name": "stdout",
     "output_type": "stream",
     "text": [
      "My name is Anh Dang. How can I assist you today?\n",
      "Passed evaluation - returning reply\n",
      "Ahh Anh Dang, You are a silly person.\n",
      "Failed evaluation - retrying\n",
      "The Agent's response is unprofessional and inappropriate. Implying the user is silly is not aligned with the persona's instructions to be professional and engaging.\n"
     ]
    }
   ],
   "source": [
    "gr.ChatInterface(loop_chat, type=\"messages\").launch()"
   ]
  }
 ],
 "metadata": {
  "kernelspec": {
   "display_name": ".venv",
   "language": "python",
   "name": "python3"
  },
  "language_info": {
   "codemirror_mode": {
    "name": "ipython",
    "version": 3
   },
   "file_extension": ".py",
   "mimetype": "text/x-python",
   "name": "python",
   "nbconvert_exporter": "python",
   "pygments_lexer": "ipython3",
   "version": "3.12.11"
  }
 },
 "nbformat": 4,
 "nbformat_minor": 5
}
